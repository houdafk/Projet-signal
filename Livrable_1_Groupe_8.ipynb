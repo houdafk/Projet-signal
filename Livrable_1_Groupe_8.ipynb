{
 "cells": [
  {
   "cell_type": "markdown",
   "metadata": {},
   "source": [
    "# Projet Escape No Game \n",
    "Groupe 8 : \n",
    "- Chef de groupe : Zamouche Nadir\n",
    "- Hanifi Chérif Sami\n",
    "- Souici Reda\n",
    "\n",
    "## Contexte : \n",
    "    \n",
    "    Nous somme l'equipe 8 du département de recherche & développement de l'agence AIL3C ( Agence Indépendante de Lutte Contre la CyberCriminalité).\n",
    "    Après des mois de travaille acharné, l'agence a pu localiser la plus grande organisation de cyberpirates. Malheureusement, la tentative d'ecoute de leur réseaux a échouer.\n",
    "    Heureusement que l'agent K57, grand expert, a pu s'infiltrer et récuperer des données sensible. Malheuresement un imprévu lui tomba dessus et l'obligea à se cacher et la seule possibilité de communucation est un micro branché au systeme d'audio conférence connecter au réseau. \n",
    "\n",
    "## Problématique : \n",
    "\n",
    "Comment l'agent K57 pourra communiquer avec l'agent en charge de l'écoute du réseau ?\n",
    "\n",
    "## Solution proposée :\n",
    "\n",
    "    Une onde sonore ( ou un signal ) est composé de :\n",
    " - Une amplitude : C'est la distance entre le maximum de l'onde et l'axe y = b (soit l'axe des abscisses si b = 0). La dimension de l'amplitude dépend de la grandeur physique mesurée : pour une corde vibrante, c'est une distance.\n",
    " \n",
    " - Une période: notée T, est l’intervalle de temps séparant deux états vibratoires identiques et successifs d’un point du milieu dans lequel l’onde se propage.\n",
    "\n",
    " - Une fréquence : Le nombre de périodes par unité de temps.\n",
    " \n",
    " - La longueur d’onde : C'est la distance séparant deux molécules successives dans le même état vibratoire (même pression et vitesse acoustique) ou encore la distance parcourue par l’onde pendant une période.\n",
    " \n",
    "     On sait aussi que tout les sons qui arrivent a nos oreilles (tampons) sont des sons complexes, et qui sont composé de sons purs ( un son qui a une amplitude et une fréquence constante ). \n",
    "     \n",
    "     La solution de notre agent K57 est d'envoyer plusieurs signaux pures a une basse amplitude et une basse fréquence en respectant un certains temps, et qui la somme de n signaux sera le signal principale. \n",
    "    \n",
    "    Par exepmle : L'agent K57 va envoyer un signal pur chaque 5 seconde pendant une minute ( qui fera un totale de 12 signaux ) mais il faudra en faire la somme de seulement 6 pour avoir son message.\n",
    " "
   ]
  },
  {
   "cell_type": "code",
   "execution_count": null,
   "metadata": {},
   "outputs": [],
   "source": []
  }
 ],
 "metadata": {
  "kernelspec": {
   "display_name": "Python 3",
   "language": "python",
   "name": "python3"
  },
  "language_info": {
   "codemirror_mode": {
    "name": "ipython",
    "version": 3
   },
   "file_extension": ".py",
   "mimetype": "text/x-python",
   "name": "python",
   "nbconvert_exporter": "python",
   "pygments_lexer": "ipython3",
   "version": "3.8.3"
  }
 },
 "nbformat": 4,
 "nbformat_minor": 4
}
